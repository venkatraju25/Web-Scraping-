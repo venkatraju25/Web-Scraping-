{
  "nbformat": 4,
  "nbformat_minor": 0,
  "metadata": {
    "colab": {
      "name": "WebScrapingProj.ipynb",
      "provenance": []
    },
    "kernelspec": {
      "name": "python3",
      "display_name": "Python 3"
    }
  },
  "cells": [
    {
      "cell_type": "code",
      "metadata": {
        "id": "I0zZEI74g3qO",
        "colab_type": "code",
        "colab": {}
      },
      "source": [
        "import pandas as pd\n",
        "from bs4 import BeautifulSoup\n",
        "import requests"
      ],
      "execution_count": 10,
      "outputs": []
    },
    {
      "cell_type": "code",
      "metadata": {
        "id": "b60Nb8Lcgtj3",
        "colab_type": "code",
        "colab": {}
      },
      "source": [
        "url = 'https://www.4icu.org/in/a-z/'\n",
        "response = requests.get(url)\n",
        "data = response.text\n",
        "soup = BeautifulSoup(data,'html.parser')"
      ],
      "execution_count": 11,
      "outputs": []
    },
    {
      "cell_type": "code",
      "metadata": {
        "id": "I3wYq_DXhAxW",
        "colab_type": "code",
        "colab": {}
      },
      "source": [
        "table = soup.find('table',{'class':'table'})\n",
        "tbody = table.find('tbody')\n",
        "rows = tbody.find_all('tr')"
      ],
      "execution_count": 12,
      "outputs": []
    },
    {
      "cell_type": "code",
      "metadata": {
        "id": "e1DSdVuBhChZ",
        "colab_type": "code",
        "colab": {}
      },
      "source": [
        "dict={}\n"
      ],
      "execution_count": 13,
      "outputs": []
    },
    {
      "cell_type": "code",
      "metadata": {
        "id": "CLJVEu4ThHr9",
        "colab_type": "code",
        "colab": {}
      },
      "source": [
        "i=1\n",
        "for x in rows:\n",
        "  elements=x.find_all('td')\n",
        "  l=0\n",
        "  for y in elements:\n",
        "    if(l == 0):\n",
        "      rank = y.text\n",
        "      l=l+1\n",
        "    elif(l == 1):\n",
        "      name = y.text\n",
        "      link = 'https://www.4icu.org' + y.a.get('href')\n",
        "      l+=1\n",
        "    elif(l == 2):\n",
        "      address = y.text\n",
        "  dict[i]=[name,rank,link,address]\n",
        "  i+=1"
      ],
      "execution_count": 14,
      "outputs": []
    },
    {
      "cell_type": "code",
      "metadata": {
        "id": "EE3lOwfphOV_",
        "colab_type": "code",
        "colab": {}
      },
      "source": [
        "df = pd.DataFrame.from_dict(dict,orient='index',columns=['Name','Rank','Link','Address'])"
      ],
      "execution_count": 15,
      "outputs": []
    },
    {
      "cell_type": "code",
      "metadata": {
        "id": "M_TjCPzUhgLB",
        "colab_type": "code",
        "colab": {}
      },
      "source": [
        "df.to_csv('college details.csv')"
      ],
      "execution_count": 16,
      "outputs": []
    },
    {
      "cell_type": "code",
      "metadata": {
        "id": "IAWEpiiShlwt",
        "colab_type": "code",
        "colab": {}
      },
      "source": [
        "df1=df.head(10)"
      ],
      "execution_count": 17,
      "outputs": []
    },
    {
      "cell_type": "code",
      "metadata": {
        "id": "6tFSAOgthps3",
        "colab_type": "code",
        "colab": {
          "base_uri": "https://localhost:8080/",
          "height": 343
        },
        "outputId": "f12e2a39-c3f5-4bf8-a506-b3f8cd47adba"
      },
      "source": [
        "df1"
      ],
      "execution_count": 18,
      "outputs": [
        {
          "output_type": "execute_result",
          "data": {
            "text/html": [
              "<div>\n",
              "<style scoped>\n",
              "    .dataframe tbody tr th:only-of-type {\n",
              "        vertical-align: middle;\n",
              "    }\n",
              "\n",
              "    .dataframe tbody tr th {\n",
              "        vertical-align: top;\n",
              "    }\n",
              "\n",
              "    .dataframe thead th {\n",
              "        text-align: right;\n",
              "    }\n",
              "</style>\n",
              "<table border=\"1\" class=\"dataframe\">\n",
              "  <thead>\n",
              "    <tr style=\"text-align: right;\">\n",
              "      <th></th>\n",
              "      <th>Name</th>\n",
              "      <th>Rank</th>\n",
              "      <th>Link</th>\n",
              "      <th>Address</th>\n",
              "    </tr>\n",
              "  </thead>\n",
              "  <tbody>\n",
              "    <tr>\n",
              "      <th>1</th>\n",
              "      <td>Abhilashi University</td>\n",
              "      <td>841</td>\n",
              "      <td>https://www.4icu.org/reviews/17817.htm</td>\n",
              "      <td>Chailchowk</td>\n",
              "    </tr>\n",
              "    <tr>\n",
              "      <th>2</th>\n",
              "      <td>Acharya N.G. Ranga Agricultural University</td>\n",
              "      <td>262</td>\n",
              "      <td>https://www.4icu.org/reviews/1978.htm</td>\n",
              "      <td>Hyderabad</td>\n",
              "    </tr>\n",
              "    <tr>\n",
              "      <th>3</th>\n",
              "      <td>Acharya Nagarjuna University</td>\n",
              "      <td>212</td>\n",
              "      <td>https://www.4icu.org/reviews/2077.htm</td>\n",
              "      <td>Guntur</td>\n",
              "    </tr>\n",
              "    <tr>\n",
              "      <th>4</th>\n",
              "      <td>Adamas University</td>\n",
              "      <td>525</td>\n",
              "      <td>https://www.4icu.org/reviews/17885.htm</td>\n",
              "      <td>Barasat</td>\n",
              "    </tr>\n",
              "    <tr>\n",
              "      <th>5</th>\n",
              "      <td>Adesh University</td>\n",
              "      <td>702</td>\n",
              "      <td>https://www.4icu.org/reviews/17856.htm</td>\n",
              "      <td>Bathinda</td>\n",
              "    </tr>\n",
              "    <tr>\n",
              "      <th>6</th>\n",
              "      <td>Adikavi Nannaya University</td>\n",
              "      <td>423</td>\n",
              "      <td>https://www.4icu.org/reviews/13107.htm</td>\n",
              "      <td>Rajahmundry</td>\n",
              "    </tr>\n",
              "    <tr>\n",
              "      <th>7</th>\n",
              "      <td>Ahmedabad University</td>\n",
              "      <td>179</td>\n",
              "      <td>https://www.4icu.org/reviews/14334.htm</td>\n",
              "      <td>Ahmedabad</td>\n",
              "    </tr>\n",
              "    <tr>\n",
              "      <th>8</th>\n",
              "      <td>Ajeenkya D.Y. Patil University</td>\n",
              "      <td>626</td>\n",
              "      <td>https://www.4icu.org/reviews/17845.htm</td>\n",
              "      <td>Lohegaon</td>\n",
              "    </tr>\n",
              "    <tr>\n",
              "      <th>9</th>\n",
              "      <td>Akal University</td>\n",
              "      <td>829</td>\n",
              "      <td>https://www.4icu.org/reviews/17857.htm</td>\n",
              "      <td>Bathinda</td>\n",
              "    </tr>\n",
              "    <tr>\n",
              "      <th>10</th>\n",
              "      <td>AKS University</td>\n",
              "      <td>375</td>\n",
              "      <td>https://www.4icu.org/reviews/17832.htm</td>\n",
              "      <td>Satna</td>\n",
              "    </tr>\n",
              "  </tbody>\n",
              "</table>\n",
              "</div>"
            ],
            "text/plain": [
              "                                          Name  ...      Address\n",
              "1                         Abhilashi University  ...   Chailchowk\n",
              "2   Acharya N.G. Ranga Agricultural University  ...    Hyderabad\n",
              "3                 Acharya Nagarjuna University  ...       Guntur\n",
              "4                            Adamas University  ...      Barasat\n",
              "5                             Adesh University  ...     Bathinda\n",
              "6                   Adikavi Nannaya University  ...  Rajahmundry\n",
              "7                         Ahmedabad University  ...    Ahmedabad\n",
              "8               Ajeenkya D.Y. Patil University  ...     Lohegaon\n",
              "9                              Akal University  ...     Bathinda\n",
              "10                              AKS University  ...        Satna\n",
              "\n",
              "[10 rows x 4 columns]"
            ]
          },
          "metadata": {
            "tags": []
          },
          "execution_count": 18
        }
      ]
    },
    {
      "cell_type": "code",
      "metadata": {
        "id": "kLAKuhnKhsIV",
        "colab_type": "code",
        "colab": {}
      },
      "source": [
        "df2 =df.tail(10)"
      ],
      "execution_count": 19,
      "outputs": []
    },
    {
      "cell_type": "code",
      "metadata": {
        "id": "ociDyyITiAbi",
        "colab_type": "code",
        "colab": {
          "base_uri": "https://localhost:8080/",
          "height": 343
        },
        "outputId": "1dfb8628-c699-40f3-ab32-1154402a0c40"
      },
      "source": [
        "df2"
      ],
      "execution_count": 20,
      "outputs": [
        {
          "output_type": "execute_result",
          "data": {
            "text/html": [
              "<div>\n",
              "<style scoped>\n",
              "    .dataframe tbody tr th:only-of-type {\n",
              "        vertical-align: middle;\n",
              "    }\n",
              "\n",
              "    .dataframe tbody tr th {\n",
              "        vertical-align: top;\n",
              "    }\n",
              "\n",
              "    .dataframe thead th {\n",
              "        text-align: right;\n",
              "    }\n",
              "</style>\n",
              "<table border=\"1\" class=\"dataframe\">\n",
              "  <thead>\n",
              "    <tr style=\"text-align: right;\">\n",
              "      <th></th>\n",
              "      <th>Name</th>\n",
              "      <th>Rank</th>\n",
              "      <th>Link</th>\n",
              "      <th>Address</th>\n",
              "    </tr>\n",
              "  </thead>\n",
              "  <tbody>\n",
              "    <tr>\n",
              "      <th>876</th>\n",
              "      <td>West Bengal State University</td>\n",
              "      <td>515</td>\n",
              "      <td>https://www.4icu.org/reviews/13151.htm</td>\n",
              "      <td>Barasat</td>\n",
              "    </tr>\n",
              "    <tr>\n",
              "      <th>877</th>\n",
              "      <td>West Bengal University of Animal and Fishery S...</td>\n",
              "      <td>592</td>\n",
              "      <td>https://www.4icu.org/reviews/2149.htm</td>\n",
              "      <td>Kolkata</td>\n",
              "    </tr>\n",
              "    <tr>\n",
              "      <th>878</th>\n",
              "      <td>West Bengal University of Health Sciences</td>\n",
              "      <td>304</td>\n",
              "      <td>https://www.4icu.org/reviews/12167.htm</td>\n",
              "      <td>Kolkata</td>\n",
              "    </tr>\n",
              "    <tr>\n",
              "      <th>879</th>\n",
              "      <td>West Bengal University of Teachers' Training, ...</td>\n",
              "      <td>805</td>\n",
              "      <td>https://www.4icu.org/reviews/16132.htm</td>\n",
              "      <td>Kolkata</td>\n",
              "    </tr>\n",
              "    <tr>\n",
              "      <th>880</th>\n",
              "      <td>William Carey University, Meghalaya</td>\n",
              "      <td>756</td>\n",
              "      <td>https://www.4icu.org/reviews/16133.htm</td>\n",
              "      <td>Shillong</td>\n",
              "    </tr>\n",
              "    <tr>\n",
              "      <th>881</th>\n",
              "      <td>Xavier University Bhubaneswar</td>\n",
              "      <td>309</td>\n",
              "      <td>https://www.4icu.org/reviews/16134.htm</td>\n",
              "      <td>Harirajpur ...</td>\n",
              "    </tr>\n",
              "    <tr>\n",
              "      <th>882</th>\n",
              "      <td>YBN University</td>\n",
              "      <td>831</td>\n",
              "      <td>https://www.4icu.org/reviews/17823.htm</td>\n",
              "      <td>Ranchi</td>\n",
              "    </tr>\n",
              "    <tr>\n",
              "      <th>883</th>\n",
              "      <td>Yenepoya University</td>\n",
              "      <td>516</td>\n",
              "      <td>https://www.4icu.org/reviews/15677.htm</td>\n",
              "      <td>Mangalore</td>\n",
              "    </tr>\n",
              "    <tr>\n",
              "      <th>884</th>\n",
              "      <td>Yogi Vemana University</td>\n",
              "      <td>520</td>\n",
              "      <td>https://www.4icu.org/reviews/13115.htm</td>\n",
              "      <td>Kadapa</td>\n",
              "    </tr>\n",
              "    <tr>\n",
              "      <th>885</th>\n",
              "      <td>Add University</td>\n",
              "      <td>Legend: Un Unranked</td>\n",
              "      <td>https://www.4icu.org/about/add.htm</td>\n",
              "      <td>Kadapa</td>\n",
              "    </tr>\n",
              "  </tbody>\n",
              "</table>\n",
              "</div>"
            ],
            "text/plain": [
              "                                                  Name  ...         Address\n",
              "876                       West Bengal State University  ...         Barasat\n",
              "877  West Bengal University of Animal and Fishery S...  ...         Kolkata\n",
              "878          West Bengal University of Health Sciences  ...         Kolkata\n",
              "879  West Bengal University of Teachers' Training, ...  ...         Kolkata\n",
              "880                William Carey University, Meghalaya  ...        Shillong\n",
              "881                      Xavier University Bhubaneswar  ...  Harirajpur ...\n",
              "882                                     YBN University  ...          Ranchi\n",
              "883                                Yenepoya University  ...       Mangalore\n",
              "884                             Yogi Vemana University  ...          Kadapa\n",
              "885                                     Add University  ...          Kadapa\n",
              "\n",
              "[10 rows x 4 columns]"
            ]
          },
          "metadata": {
            "tags": []
          },
          "execution_count": 20
        }
      ]
    },
    {
      "cell_type": "code",
      "metadata": {
        "id": "Cl5DPvzhiCcm",
        "colab_type": "code",
        "colab": {
          "base_uri": "https://localhost:8080/",
          "height": 34
        },
        "outputId": "cefe70a8-e291-4687-9a7b-3ca0132ffc22"
      },
      "source": [
        "df.shape"
      ],
      "execution_count": 21,
      "outputs": [
        {
          "output_type": "execute_result",
          "data": {
            "text/plain": [
              "(885, 4)"
            ]
          },
          "metadata": {
            "tags": []
          },
          "execution_count": 21
        }
      ]
    },
    {
      "cell_type": "code",
      "metadata": {
        "id": "cUm0VtmNiF_M",
        "colab_type": "code",
        "colab": {}
      },
      "source": [
        "df_duplicate=df[df.duplicated('Name')]"
      ],
      "execution_count": 22,
      "outputs": []
    },
    {
      "cell_type": "code",
      "metadata": {
        "id": "JU6_TBpMiOhn",
        "colab_type": "code",
        "colab": {
          "base_uri": "https://localhost:8080/",
          "height": 84
        },
        "outputId": "a653f844-7b70-4378-88b4-d778b59ed047"
      },
      "source": [
        "df_duplicate.count"
      ],
      "execution_count": 23,
      "outputs": [
        {
          "output_type": "execute_result",
          "data": {
            "text/plain": [
              "<bound method DataFrame.count of                       Name  ...  Address\n",
              "612  Presidency University  ...  Kolkata\n",
              "\n",
              "[1 rows x 4 columns]>"
            ]
          },
          "metadata": {
            "tags": []
          },
          "execution_count": 23
        }
      ]
    },
    {
      "cell_type": "code",
      "metadata": {
        "id": "gkYDyVi6idEZ",
        "colab_type": "code",
        "colab": {
          "base_uri": "https://localhost:8080/",
          "height": 77
        },
        "outputId": "1e74ea5c-0a40-4cd6-9f82-2cb25802fd54"
      },
      "source": [
        "df_duplicate"
      ],
      "execution_count": 24,
      "outputs": [
        {
          "output_type": "execute_result",
          "data": {
            "text/html": [
              "<div>\n",
              "<style scoped>\n",
              "    .dataframe tbody tr th:only-of-type {\n",
              "        vertical-align: middle;\n",
              "    }\n",
              "\n",
              "    .dataframe tbody tr th {\n",
              "        vertical-align: top;\n",
              "    }\n",
              "\n",
              "    .dataframe thead th {\n",
              "        text-align: right;\n",
              "    }\n",
              "</style>\n",
              "<table border=\"1\" class=\"dataframe\">\n",
              "  <thead>\n",
              "    <tr style=\"text-align: right;\">\n",
              "      <th></th>\n",
              "      <th>Name</th>\n",
              "      <th>Rank</th>\n",
              "      <th>Link</th>\n",
              "      <th>Address</th>\n",
              "    </tr>\n",
              "  </thead>\n",
              "  <tbody>\n",
              "    <tr>\n",
              "      <th>612</th>\n",
              "      <td>Presidency University</td>\n",
              "      <td>146</td>\n",
              "      <td>https://www.4icu.org/reviews/14426.htm</td>\n",
              "      <td>Kolkata</td>\n",
              "    </tr>\n",
              "  </tbody>\n",
              "</table>\n",
              "</div>"
            ],
            "text/plain": [
              "                      Name  ...  Address\n",
              "612  Presidency University  ...  Kolkata\n",
              "\n",
              "[1 rows x 4 columns]"
            ]
          },
          "metadata": {
            "tags": []
          },
          "execution_count": 24
        }
      ]
    },
    {
      "cell_type": "code",
      "metadata": {
        "id": "NJb1YzV0mWxb",
        "colab_type": "code",
        "colab": {}
      },
      "source": [
        ""
      ],
      "execution_count": 24,
      "outputs": []
    },
    {
      "cell_type": "code",
      "metadata": {
        "id": "6mYLri1Siv5D",
        "colab_type": "code",
        "colab": {}
      },
      "source": [
        "dfRank=df[df['Rank']=='1']"
      ],
      "execution_count": 25,
      "outputs": []
    },
    {
      "cell_type": "code",
      "metadata": {
        "id": "BEjynjCEjALR",
        "colab_type": "code",
        "colab": {
          "base_uri": "https://localhost:8080/",
          "height": 77
        },
        "outputId": "1cdb1581-7e2c-4457-864b-56af8ff55356"
      },
      "source": [
        "dfRank"
      ],
      "execution_count": 26,
      "outputs": [
        {
          "output_type": "execute_result",
          "data": {
            "text/html": [
              "<div>\n",
              "<style scoped>\n",
              "    .dataframe tbody tr th:only-of-type {\n",
              "        vertical-align: middle;\n",
              "    }\n",
              "\n",
              "    .dataframe tbody tr th {\n",
              "        vertical-align: top;\n",
              "    }\n",
              "\n",
              "    .dataframe thead th {\n",
              "        text-align: right;\n",
              "    }\n",
              "</style>\n",
              "<table border=\"1\" class=\"dataframe\">\n",
              "  <thead>\n",
              "    <tr style=\"text-align: right;\">\n",
              "      <th></th>\n",
              "      <th>Name</th>\n",
              "      <th>Rank</th>\n",
              "      <th>Link</th>\n",
              "      <th>Address</th>\n",
              "    </tr>\n",
              "  </thead>\n",
              "  <tbody>\n",
              "    <tr>\n",
              "      <th>821</th>\n",
              "      <td>University of Delhi</td>\n",
              "      <td>1</td>\n",
              "      <td>https://www.4icu.org/reviews/2130.htm</td>\n",
              "      <td>New Delhi</td>\n",
              "    </tr>\n",
              "  </tbody>\n",
              "</table>\n",
              "</div>"
            ],
            "text/plain": [
              "                    Name Rank                                   Link    Address\n",
              "821  University of Delhi    1  https://www.4icu.org/reviews/2130.htm  New Delhi"
            ]
          },
          "metadata": {
            "tags": []
          },
          "execution_count": 26
        }
      ]
    },
    {
      "cell_type": "code",
      "metadata": {
        "id": "T-Jiy_jJjDdJ",
        "colab_type": "code",
        "colab": {}
      },
      "source": [
        "df100=df[df['Rank']=='100']"
      ],
      "execution_count": 27,
      "outputs": []
    },
    {
      "cell_type": "code",
      "metadata": {
        "id": "VqWJ_NzpjKbc",
        "colab_type": "code",
        "colab": {
          "base_uri": "https://localhost:8080/",
          "height": 77
        },
        "outputId": "d6d75263-ddad-45f6-851d-f364947b74d3"
      },
      "source": [
        "df100"
      ],
      "execution_count": 28,
      "outputs": [
        {
          "output_type": "execute_result",
          "data": {
            "text/html": [
              "<div>\n",
              "<style scoped>\n",
              "    .dataframe tbody tr th:only-of-type {\n",
              "        vertical-align: middle;\n",
              "    }\n",
              "\n",
              "    .dataframe tbody tr th {\n",
              "        vertical-align: top;\n",
              "    }\n",
              "\n",
              "    .dataframe thead th {\n",
              "        text-align: right;\n",
              "    }\n",
              "</style>\n",
              "<table border=\"1\" class=\"dataframe\">\n",
              "  <thead>\n",
              "    <tr style=\"text-align: right;\">\n",
              "      <th></th>\n",
              "      <th>Name</th>\n",
              "      <th>Rank</th>\n",
              "      <th>Link</th>\n",
              "      <th>Address</th>\n",
              "    </tr>\n",
              "  </thead>\n",
              "  <tbody>\n",
              "    <tr>\n",
              "      <th>237</th>\n",
              "      <td>Guru Nanak Dev University</td>\n",
              "      <td>100</td>\n",
              "      <td>https://www.4icu.org/reviews/2024.htm</td>\n",
              "      <td>Amritsar</td>\n",
              "    </tr>\n",
              "  </tbody>\n",
              "</table>\n",
              "</div>"
            ],
            "text/plain": [
              "                          Name  ...   Address\n",
              "237  Guru Nanak Dev University  ...  Amritsar\n",
              "\n",
              "[1 rows x 4 columns]"
            ]
          },
          "metadata": {
            "tags": []
          },
          "execution_count": 28
        }
      ]
    },
    {
      "cell_type": "code",
      "metadata": {
        "id": "7jvEGZtEjNhA",
        "colab_type": "code",
        "colab": {}
      },
      "source": [
        "dfkol=df[df['Address']=='Kolkata'].count()"
      ],
      "execution_count": 29,
      "outputs": []
    },
    {
      "cell_type": "code",
      "metadata": {
        "id": "_yffpbwcjV1N",
        "colab_type": "code",
        "colab": {
          "base_uri": "https://localhost:8080/",
          "height": 101
        },
        "outputId": "7d895800-f322-4207-b3db-40243cfcd2c0"
      },
      "source": [
        "dfkol"
      ],
      "execution_count": 30,
      "outputs": [
        {
          "output_type": "execute_result",
          "data": {
            "text/plain": [
              "Name       15\n",
              "Rank       15\n",
              "Link       15\n",
              "Address    15\n",
              "dtype: int64"
            ]
          },
          "metadata": {
            "tags": []
          },
          "execution_count": 30
        }
      ]
    },
    {
      "cell_type": "code",
      "metadata": {
        "id": "MNsBISMajZ5E",
        "colab_type": "code",
        "colab": {}
      },
      "source": [
        "dfdur=df[df['Address']=='Durgapur'].count()"
      ],
      "execution_count": 31,
      "outputs": []
    },
    {
      "cell_type": "code",
      "metadata": {
        "id": "aITaNG3sjsCi",
        "colab_type": "code",
        "colab": {
          "base_uri": "https://localhost:8080/",
          "height": 101
        },
        "outputId": "5cfb0e0d-4fd0-4465-aace-68bbd500bc99"
      },
      "source": [
        "dfdur"
      ],
      "execution_count": 32,
      "outputs": [
        {
          "output_type": "execute_result",
          "data": {
            "text/plain": [
              "Name       1\n",
              "Rank       1\n",
              "Link       1\n",
              "Address    1\n",
              "dtype: int64"
            ]
          },
          "metadata": {
            "tags": []
          },
          "execution_count": 32
        }
      ]
    },
    {
      "cell_type": "code",
      "metadata": {
        "id": "k7Z5G-aXkAU6",
        "colab_type": "code",
        "colab": {}
      },
      "source": [
        "dflink=df[df['Link']=='https://www.4icu.org/reviews/7380.htm']"
      ],
      "execution_count": 33,
      "outputs": []
    },
    {
      "cell_type": "code",
      "metadata": {
        "id": "Xge0ety_kDUv",
        "colab_type": "code",
        "colab": {
          "base_uri": "https://localhost:8080/",
          "height": 77
        },
        "outputId": "9bb3161b-135e-42a2-d2ed-3e3837850c4a"
      },
      "source": [
        "dflink"
      ],
      "execution_count": 34,
      "outputs": [
        {
          "output_type": "execute_result",
          "data": {
            "text/html": [
              "<div>\n",
              "<style scoped>\n",
              "    .dataframe tbody tr th:only-of-type {\n",
              "        vertical-align: middle;\n",
              "    }\n",
              "\n",
              "    .dataframe tbody tr th {\n",
              "        vertical-align: top;\n",
              "    }\n",
              "\n",
              "    .dataframe thead th {\n",
              "        text-align: right;\n",
              "    }\n",
              "</style>\n",
              "<table border=\"1\" class=\"dataframe\">\n",
              "  <thead>\n",
              "    <tr style=\"text-align: right;\">\n",
              "      <th></th>\n",
              "      <th>Name</th>\n",
              "      <th>Rank</th>\n",
              "      <th>Link</th>\n",
              "      <th>Address</th>\n",
              "    </tr>\n",
              "  </thead>\n",
              "  <tbody>\n",
              "    <tr>\n",
              "      <th>874</th>\n",
              "      <td>VIT University</td>\n",
              "      <td>9</td>\n",
              "      <td>https://www.4icu.org/reviews/7380.htm</td>\n",
              "      <td>Vellore ...</td>\n",
              "    </tr>\n",
              "  </tbody>\n",
              "</table>\n",
              "</div>"
            ],
            "text/plain": [
              "               Name Rank                                   Link      Address\n",
              "874  VIT University    9  https://www.4icu.org/reviews/7380.htm  Vellore ..."
            ]
          },
          "metadata": {
            "tags": []
          },
          "execution_count": 34
        }
      ]
    },
    {
      "cell_type": "code",
      "metadata": {
        "id": "oFDQpJpKkFlI",
        "colab_type": "code",
        "colab": {}
      },
      "source": [
        "dfrep=df.groupby('Name').max().count"
      ],
      "execution_count": 35,
      "outputs": []
    },
    {
      "cell_type": "code",
      "metadata": {
        "id": "RlkvLaNxkSJ1",
        "colab_type": "code",
        "colab": {
          "base_uri": "https://localhost:8080/",
          "height": 269
        },
        "outputId": "18d64c3c-8acd-43e9-b658-7bc93a40f070"
      },
      "source": [
        "dfrep"
      ],
      "execution_count": 36,
      "outputs": [
        {
          "output_type": "execute_result",
          "data": {
            "text/plain": [
              "<bound method DataFrame.count of                                          Rank  ...             Address\n",
              "Name                                           ...                    \n",
              "AKS University                            375  ...               Satna\n",
              "AP Goyal Shimla University                554  ...              Shimla\n",
              "APJ Abdul Kalam Technological University   97  ...  Thiruvananthapuram\n",
              "AURO University                           605  ...               Surat\n",
              "Abhilashi University                      841  ...          Chailchowk\n",
              "...                                       ...  ...                 ...\n",
              "William Carey University, Meghalaya       756  ...            Shillong\n",
              "Xavier University Bhubaneswar             309  ...      Harirajpur ...\n",
              "YBN University                            831  ...              Ranchi\n",
              "Yenepoya University                       516  ...           Mangalore\n",
              "Yogi Vemana University                    520  ...              Kadapa\n",
              "\n",
              "[884 rows x 3 columns]>"
            ]
          },
          "metadata": {
            "tags": []
          },
          "execution_count": 36
        }
      ]
    },
    {
      "cell_type": "code",
      "metadata": {
        "id": "rOKgZFjkmYNr",
        "colab_type": "code",
        "colab": {}
      },
      "source": [
        "dfrep1=df.groupby('Address').max().count"
      ],
      "execution_count": 37,
      "outputs": []
    },
    {
      "cell_type": "code",
      "metadata": {
        "id": "7o5rr5BZmcND",
        "colab_type": "code",
        "colab": {
          "base_uri": "https://localhost:8080/",
          "height": 269
        },
        "outputId": "d77ed79d-3dac-4266-f750-18017a202e83"
      },
      "source": [
        "dfrep1"
      ],
      "execution_count": 38,
      "outputs": [
        {
          "output_type": "execute_result",
          "data": {
            "text/plain": [
              "<bound method DataFrame.count of                                                            Name  ...                                    Link\n",
              "Address                                                          ...                                        \n",
              "Aalo                   North East Frontier Technical University  ...  https://www.4icu.org/reviews/17761.htm\n",
              "Aarang                                          MATS University  ...  https://www.4icu.org/reviews/14332.htm\n",
              "Agarpara                                         JIS University  ...  https://www.4icu.org/reviews/17887.htm\n",
              "Agartala                                     Tripura University  ...  https://www.4icu.org/reviews/17788.htm\n",
              "Agartala ...                          ICFAI University, Tripura  ...  https://www.4icu.org/reviews/12176.htm\n",
              "...                                                         ...  ...                                     ...\n",
              "Warangal             National Institute of Technology, Warangal  ...   https://www.4icu.org/reviews/2083.htm\n",
              "Warangal ...                                Kakatiya University  ...   https://www.4icu.org/reviews/2055.htm\n",
              "Wardha        Mahatma Gandhi Antarrashtriya Hindi Vishwavidy...  ...   https://www.4icu.org/reviews/7320.htm\n",
              "Yupia         National Institute of Technology, Arunachal Pr...  ...  https://www.4icu.org/reviews/15640.htm\n",
              "Ziro          Indira Gandhi Technological and Medical Scienc...  ...  https://www.4icu.org/reviews/16025.htm\n",
              "\n",
              "[416 rows x 3 columns]>"
            ]
          },
          "metadata": {
            "tags": []
          },
          "execution_count": 38
        }
      ]
    }
  ]
}